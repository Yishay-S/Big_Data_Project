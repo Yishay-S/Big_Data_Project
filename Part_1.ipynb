{
 "cells": [
  {
   "cell_type": "code",
   "execution_count": 18,
   "metadata": {
    "collapsed": true
   },
   "outputs": [],
   "source": [
    "import pandas as pd\n",
    "from datetime import datetime\n",
    "import pymongo\n",
    "from pymongo import MongoClient\n",
    "client = MongoClient()\n",
    "db = client['stud28']\n",
    "companies = db.companies"
   ]
  },
  {
   "cell_type": "markdown",
   "metadata": {},
   "source": [
    "Everytime we used redis is because we want to achive fast retrival- fast manner if the request is legal in these cases and thus,the user can get fast results. \n",
    "Every time we used mongo is because we want to store the data in the presistent storage and also we used mongo for backup in case the redis will crash and we do not want to lose information."
   ]
  },
  {
   "cell_type": "markdown",
   "metadata": {},
   "source": [
    "# Mongo Document Structure (companies collection, document foreach company)"
   ]
  },
  {
   "cell_type": "code",
   "execution_count": 19,
   "metadata": {
    "collapsed": true
   },
   "outputs": [],
   "source": [
    "# job_list and application_ list are implemnted as set\n",
    "# application  is acctually a set\n",
    "#{'company_name':str, \n",
    "# 'company_description':str,\n",
    "# 'jobs_list':({'job_id':int,\n",
    "#               'job_name': str, \n",
    "#               'location': str,\n",
    "#               'requirements':set,\n",
    "#               'publish_date':date,\n",
    "#               'status':str,\n",
    "#               'applications_list':({'candidate_name':str,\n",
    "#                                      'email':str,\n",
    "#                                      'linkedin':str, \n",
    "#                                      'skills': set,\n",
    "#                                      'application_date':datetime \n",
    "#                                      })\n",
    "#              })\n",
    "#}"
   ]
  },
  {
   "cell_type": "markdown",
   "metadata": {},
   "source": [
    "# Data model explaination"
   ]
  },
  {
   "cell_type": "code",
   "execution_count": 20,
   "metadata": {
    "collapsed": true
   },
   "outputs": [],
   "source": [
    "#For allowing the operational side to have quick repsonse we are having some of the data in the cahce,\n",
    "#the cached date (redis inctances) should not have redudant data and have only data which is nesseceray for calcultaion,\n",
    "#we broke each one of the functions for two parts, one that updates our cached data, and the second is updating our mongo db\n",
    "#all the get operators are reading only from cache\n",
    "\n",
    "#most of the calls are in the job_id company_name agg level so during the excrecise we will use a combined key \n",
    "# combined_id = company_name+\"_\"+jobid'"
   ]
  },
  {
   "cell_type": "code",
   "execution_count": 21,
   "metadata": {
    "collapsed": true
   },
   "outputs": [],
   "source": [
    "import redis\n",
    "r = redis.StrictRedis(host='bdl1.eng.tau.ac.il', port=6379)"
   ]
  },
  {
   "cell_type": "markdown",
   "metadata": {},
   "source": [
    "# redis data structure"
   ]
  },
  {
   "cell_type": "code",
   "execution_count": 22,
   "metadata": {
    "collapsed": true
   },
   "outputs": [],
   "source": [
    "#1. Candidates_Mails_Per_Position\n",
    "#  structure: combined_id+\"_mail_stud28\": sorted set of candidate emails\n",
    "#  will support fast operation of show_candidates, will be updated in add_application\n",
    "#\n",
    "#2. Jobs_Per_Location\n",
    "#  structure: location+\"_stud28\": list of combined_ids\n",
    "#  will support fast operation of show_number_of_jobs, will be updated in add_job\n",
    "#  \n",
    "#\n",
    "#3. Requirement_Per_Position\n",
    "#  combined_id+\"_req_stud28\" : set of requiremnts (will allow easy intersect with the candidate skilll set)\n",
    "#  while recieving application we need to decide on the operatinal side how many requirements the candidate answer so we will be able to reutrn the sorted candidae list, for that we should save on cache the requirements for \n",
    "#  each job, will be updated in add_job\n",
    "#  \n",
    "#4. Status_Per_Position\n",
    "#  combined_id+\"_status_stud28\": status\n",
    "#  will support a fast access to the staus of each position, for supporting show_number_of_jobs\n",
    "#\n",
    "#5. Max_Job_ID_Per_Company\n",
    "#  comapny+\"_stud28\": max_job_id\n",
    "#  in case the company exsit but didnt post a job yet the max_job_id is set to 0,  support the prevention of duplication in add_company and add_job operators (the new id will be the inc of the max)"
   ]
  },
  {
   "cell_type": "markdown",
   "metadata": {},
   "source": [
    "# Operation 1 - add_company"
   ]
  },
  {
   "cell_type": "code",
   "execution_count": 23,
   "metadata": {
    "collapsed": true
   },
   "outputs": [],
   "source": [
    "def add_company(company):\n",
    "    #Max_Job_ID_Per_Company\n",
    "    if r.exists(company['company_name']+\"_stud28\"):\n",
    "        print (\"company name already exists\")\n",
    "    elif '_' in company['company_name']:\n",
    "        print(\"Please insert company name without _\") # for allowing to use in combined id\n",
    "        return\n",
    "    else:\n",
    "        add_company_to_redis(company)\n",
    "        add_company_to_mongo(company)\n",
    "    \n",
    "    \n",
    "def add_company_to_redis(company):\n",
    "    #Max_Job_ID_Per_Company\n",
    "    r.set(company['company_name']+\"_stud28\", 0)\n",
    "    print '{} created'.format(company)\n",
    "    \n",
    "\n",
    "def add_company_to_mongo(company):\n",
    "    companies.insert_one(company)"
   ]
  },
  {
   "cell_type": "markdown",
   "metadata": {},
   "source": [
    "# Operation 2 - add_job"
   ]
  },
  {
   "cell_type": "code",
   "execution_count": 24,
   "metadata": {
    "collapsed": true
   },
   "outputs": [],
   "source": [
    "def add_job(job, company_name):\n",
    "    #Max_Job_ID_Per_Company\n",
    "    r.incr(company_name+\"_stud28\") #Assuming the company exists\n",
    "    job_id = r.get(company_name+\"_stud28\")\n",
    "    add_job_to_redis(job_id,job,company_name)\n",
    "    add_job_to_mongo(job_id,job,company_name)\n",
    "  \n",
    "  \n",
    "def add_job_to_redis(job_id,job,company_name):\n",
    "    combined_id = company_name+\"_\"+str(job_id)\n",
    "    #Requirement_Per_Position\n",
    "    r.sadd(combined_id+\"_req_stud28\", job['requirements'])\n",
    "    #Status_Per_Position\n",
    "    r.set(combined_id+\"_status_stud28\", job['status'])\n",
    "    #Jobs_Per_Location\n",
    "    r.sadd(job['location']+\"_stud28\",combined_id)\n",
    "    print '{} added {} position, position id - {}'.format(company_name, job['job_name'], str(job_id))\n",
    "  \n",
    "  \n",
    "def add_job_to_mongo(job_id,job,company_name):\n",
    "    job_details = {'job_id':int(job_id),\n",
    "                  'job_name': job['job_name'],\n",
    "                  'location':job['location'],\n",
    "                  'requirements': job['requirements'],\n",
    "                  'publish_date': job['publish_date'],\n",
    "                  'status': job['status'],\n",
    "                  'applications_list':[]}\n",
    "    companies.update_one({\"company_name\": company_name},\n",
    "   {\n",
    "   \"$addToSet\": {\"job_list\": job_details},\n",
    "   \"$currentDate\": {\"lastModified\": True}\n",
    "   })\n",
    "  \n",
    "  \n"
   ]
  },
  {
   "cell_type": "markdown",
   "metadata": {},
   "source": [
    "# Operation 4 - update_job_status"
   ]
  },
  {
   "cell_type": "code",
   "execution_count": 25,
   "metadata": {},
   "outputs": [],
   "source": [
    "def update_job_status(company_name, job_id, new_status):\n",
    "    update_job_status_redis(company_name, job_id, new_status)\n",
    "    update_job_status_mongo(company_name, job_id, new_status)\n",
    "\n",
    "\n",
    "def update_job_status_redis(company_name, job_id, new_status):\n",
    "    combined_id = company_name+\"_\"+str(job_id)\n",
    "    #Status_Per_Position\n",
    "    r.set(combined_id+\"_status_stud28\", new_status)\n",
    "    print 'job_id {} in {} is now {}'.format(job_id, company_name, new_status)\n",
    "  \n",
    "  \n",
    "\n",
    "def update_job_status_mongo(company_name, job_id, new_status):\n",
    "    companies.update_one({\"company_name\": company_name,\n",
    "                           \"job_list.job_id\":int(job_id)\n",
    "                          },\n",
    "                          {\n",
    "                        \"$set\": {\"job_list.$.status\": new_status},\n",
    "                        \"$currentDate\": {\"lastModified\": True}})"
   ]
  },
  {
   "cell_type": "markdown",
   "metadata": {},
   "source": [
    "# Operation 3  - add_application"
   ]
  },
  {
   "cell_type": "code",
   "execution_count": 26,
   "metadata": {
    "collapsed": true
   },
   "outputs": [],
   "source": [
    "def add_application_(candidate, job_id, company_name):\n",
    "    combined_id = company_name+\"_\"+str(job_id)\n",
    "    #Status_Per_Position\n",
    "    position_status = r.get(combined_id+\"_status_stud28\")\n",
    "    if position_status=='close':\n",
    "        print (\"Sorry, the position is close\")\n",
    "    else:\n",
    "        add_application_to_redis(candidate, combined_id)\n",
    "        add_application_to_mongo(candidate, job_id,company_name)\n",
    "\n",
    "\n",
    "def add_application_to_redis(candidate, combined_id):\n",
    "    #Requirement_Per_Position\n",
    "    requirements = r.smembers(combined_id+\"_req_stud28\")\n",
    "    candidate_skills = set(candidate['skills'])\n",
    "    number_of_matches = len(set(requirements).intersection(candidate_skills))\n",
    "    #Candidates_Mails_Per_Position\n",
    "    r.zadd(combined_id+\"_mail_stud28\", number_of_matches, candidate['email'])\n",
    "    splitted_id = combined_id.split('_')\n",
    "    print 'Application for postion id {} in {} recieved'.format(str(splitted_id[1]),str(splitted_id[0]))\n",
    "    \n",
    "    \n",
    "def add_application_to_mongo(candidate, job_id,company_name):\n",
    "        companies.update_one({\"company_name\": company_name,\n",
    "                              \"job_list.job_id\":int(job_id)\n",
    "                             },\n",
    "                             {\n",
    "                           \"$addToSet\": {\"job_list.$.applications_list\": candidate},\n",
    "                           \"$currentDate\": {\"lastModified\": True}\n",
    "   })"
   ]
  },
  {
   "cell_type": "markdown",
   "metadata": {},
   "source": [
    "# Operation 5 - show_number_of_jobs"
   ]
  },
  {
   "cell_type": "code",
   "execution_count": 27,
   "metadata": {
    "collapsed": true
   },
   "outputs": [],
   "source": [
    "def show_number_of_jobs(location):\n",
    "    open_positions_list = [c_id  for c_id in r.smembers(location+\"_stud28\") if r.get(c_id+\"_status_stud28\")=='open']\n",
    "    print \"number of posistion in {}: {}\".format(location,len(open_positions_list)) \n",
    "    return len(open_positions_list)"
   ]
  },
  {
   "cell_type": "markdown",
   "metadata": {},
   "source": [
    "# Operation 6 - show_candidates"
   ]
  },
  {
   "cell_type": "code",
   "execution_count": 28,
   "metadata": {},
   "outputs": [],
   "source": [
    "def show_candidates(company_name, job_id):\n",
    "    combined_id = company_name+\"_\"+str(job_id)\n",
    "    try:\n",
    "        print \"sorted set of candidates for job {} in {}: {}\".format(job_id,company_name, r.zrevrange(combined_id+\"_mail_stud28\", 0, -1))\n",
    "    except:\n",
    "        print \"candidates for job {} in {} were not found\".format(job_id,company_name)\n",
    "    return r.zrevrange(combined_id+\"_mail_stud28\", 0, -1)"
   ]
  },
  {
   "cell_type": "markdown",
   "metadata": {},
   "source": [
    "# Report 1 - count_jobs_by_company"
   ]
  },
  {
   "cell_type": "code",
   "execution_count": 29,
   "metadata": {
    "collapsed": true
   },
   "outputs": [],
   "source": [
    "def count_jobs_by_company():\n",
    "    aggregation_function = [\n",
    "   {\n",
    "      \"$project\": {\n",
    "         \"company_name\": 1,\n",
    "         \"num_posted_jobs\": { \"$cond\": { \"if\": { \"$isArray\": \"$job_list\" }, \"then\": { \"$size\": \"$job_list\" }, \"else\": \"NA\"} }\n",
    "      }\n",
    "   }\n",
    "\t]\n",
    "    agg_result = db.companies.aggregate(aggregation_function)\n",
    "    df = pd.DataFrame(list(agg_result))\n",
    "    display(df[['company_name','num_posted_jobs']])"
   ]
  },
  {
   "cell_type": "markdown",
   "metadata": {},
   "source": [
    "# Report 2 - count_candidates_by_job"
   ]
  },
  {
   "cell_type": "code",
   "execution_count": 30,
   "metadata": {
    "collapsed": true
   },
   "outputs": [],
   "source": [
    "def count_candidates_by_job():\n",
    "    curr_date = datetime.now()\n",
    "    tup_list =[]\n",
    "    for doc in companies.find():\n",
    "        for job in doc['job_list']:\n",
    "            app_list = job['applications_list']\n",
    "            relevant_apps =  [app['email'] for app in app_list if (curr_date - datetime.strptime(app['Application Date'], '%d-%m-%Y %H:%M:%S')).days<=30]\n",
    "            tup = (doc[\"company_name\"],job['job_id'],len(set(relevant_apps)))\n",
    "            tup_list.append(tup)\n",
    "    df = pd.DataFrame(tup_list, columns = ['company_name','job_id','recent_candidate'])\n",
    "    display(df)"
   ]
  },
  {
   "cell_type": "markdown",
   "metadata": {},
   "source": [
    "# Recovery"
   ]
  },
  {
   "cell_type": "code",
   "execution_count": 31,
   "metadata": {
    "collapsed": true
   },
   "outputs": [],
   "source": [
    "def recovery():\n",
    "# delete all the leftovers    \n",
    "    for k in r.keys():\n",
    "        if 'stud28' in k:\n",
    "            r.delete(k)\n",
    "    print 'redis is ready to restore'\n",
    "    # restore the data from mongo\n",
    "    for company in companies.find():\n",
    "        #add company\n",
    "        company_name = company['company_name']\n",
    "        add_company_to_redis(company)\n",
    "        #add jobs\n",
    "        try:\n",
    "            for job in company['job_list']:\n",
    "                job_id = job['job_id']\n",
    "                combined_id = company_name+\"_\"+str(job_id)\n",
    "                add_job_to_redis(job_id,job,company_name)\n",
    "                #add applications\n",
    "                try:\n",
    "                    for candidate in job['applications_list']:\n",
    "                        combined_id = company_name+\"_\"+str(job_id)\n",
    "                        add_application_to_redis(candidate, combined_id)\n",
    "                        \n",
    "                except:\n",
    "                    print 'There is no applications for job: {}'.format(combined_id)   \n",
    "                \n",
    "                \n",
    "        except:\n",
    "            print 'There is no jobs for company: {}'.format(company_name)\n",
    "\n",
    "    print 'Finish to restore data of company: {}'.format(company_name)"
   ]
  },
  {
   "cell_type": "code",
   "execution_count": 33,
   "metadata": {},
   "outputs": [],
   "source": [
    "def execute():\n",
    "    add_company({'company_name':'TAU', 'company_description':'University'})\n",
    "    add_job({'job_name':'bi developer', 'location': 'Tel Aviv','requirements':['python','big data','mongodb'],'status':'open','publish_date':'01-02-2019'},'TAU')\n",
    "    add_application_({'candidate_name':'laura', 'email':'laura@gmail.com','linkedin':'https://www.linkedin.com/in/laura/', 'skills': ['python','sql'],'Application Date':'01-02-2019 15:00:00'}, '1','TAU')\n",
    "    update_job_status('TAU','1','close')\n",
    "    update_job_status('TAU','1','open')\n",
    "    show_number_of_jobs('Tel Aviv')\n",
    "    show_candidates('TAU','1')    \n",
    "    count_jobs_by_company()\n",
    "    count_candidates_by_job()\n",
    "    recovery()\n",
    " "
   ]
  },
  {
   "cell_type": "code",
   "execution_count": 34,
   "metadata": {},
   "outputs": [
    {
     "name": "stdout",
     "output_type": "stream",
     "text": [
      "{'company_name': 'TAU', 'company_description': 'University'} created\n",
      "TAU added bi developer position, position id - 1\n",
      "Application for postion id 1 in TAU recieved\n",
      "job_id 1 in TAU is now close\n",
      "job_id 1 in TAU is now open\n",
      "number of posistion in Tel Aviv: 1\n",
      "sorted set of candidates for job 1 in TAU: ['laura@gmail.com']\n"
     ]
    },
    {
     "data": {
      "text/html": [
       "<div>\n",
       "<style scoped>\n",
       "    .dataframe tbody tr th:only-of-type {\n",
       "        vertical-align: middle;\n",
       "    }\n",
       "\n",
       "    .dataframe tbody tr th {\n",
       "        vertical-align: top;\n",
       "    }\n",
       "\n",
       "    .dataframe thead th {\n",
       "        text-align: right;\n",
       "    }\n",
       "</style>\n",
       "<table border=\"1\" class=\"dataframe\">\n",
       "  <thead>\n",
       "    <tr style=\"text-align: right;\">\n",
       "      <th></th>\n",
       "      <th>company_name</th>\n",
       "      <th>num_posted_jobs</th>\n",
       "    </tr>\n",
       "  </thead>\n",
       "  <tbody>\n",
       "    <tr>\n",
       "      <th>0</th>\n",
       "      <td>TAU</td>\n",
       "      <td>1</td>\n",
       "    </tr>\n",
       "  </tbody>\n",
       "</table>\n",
       "</div>"
      ],
      "text/plain": [
       "  company_name  num_posted_jobs\n",
       "0          TAU                1"
      ]
     },
     "metadata": {},
     "output_type": "display_data"
    },
    {
     "data": {
      "text/html": [
       "<div>\n",
       "<style scoped>\n",
       "    .dataframe tbody tr th:only-of-type {\n",
       "        vertical-align: middle;\n",
       "    }\n",
       "\n",
       "    .dataframe tbody tr th {\n",
       "        vertical-align: top;\n",
       "    }\n",
       "\n",
       "    .dataframe thead th {\n",
       "        text-align: right;\n",
       "    }\n",
       "</style>\n",
       "<table border=\"1\" class=\"dataframe\">\n",
       "  <thead>\n",
       "    <tr style=\"text-align: right;\">\n",
       "      <th></th>\n",
       "      <th>company_name</th>\n",
       "      <th>job_id</th>\n",
       "      <th>recent_candidate</th>\n",
       "    </tr>\n",
       "  </thead>\n",
       "  <tbody>\n",
       "    <tr>\n",
       "      <th>0</th>\n",
       "      <td>TAU</td>\n",
       "      <td>1</td>\n",
       "      <td>0</td>\n",
       "    </tr>\n",
       "  </tbody>\n",
       "</table>\n",
       "</div>"
      ],
      "text/plain": [
       "  company_name  job_id  recent_candidate\n",
       "0          TAU       1                 0"
      ]
     },
     "metadata": {},
     "output_type": "display_data"
    },
    {
     "name": "stdout",
     "output_type": "stream",
     "text": [
      "redis is ready to restore\n",
      "{u'lastModified': datetime.datetime(2020, 5, 25, 15, 3, 6, 754000), u'_id': ObjectId('5ecbde2a8ec1437b13b69916'), u'job_list': [{u'status': u'open', u'applications_list': [{u'skills': [u'python', u'sql'], u'candidate_name': u'laura', u'Application Date': u'01-02-2019 15:00:00', u'email': u'laura@gmail.com', u'linkedin': u'https://www.linkedin.com/in/laura/'}], u'requirements': [u'python', u'big data', u'mongodb'], u'job_id': 1, u'publish_date': u'01-02-2019', u'location': u'Tel Aviv', u'job_name': u'bi developer'}], u'company_name': u'TAU', u'company_description': u'University'} created\n",
      "TAU added bi developer position, position id - 1\n",
      "Application for postion id 1 in TAU recieved\n",
      "Finish to restore data of company: TAU\n"
     ]
    }
   ],
   "source": [
    "execute()"
   ]
  },
  {
   "cell_type": "code",
   "execution_count": 16,
   "metadata": {},
   "outputs": [
    {
     "name": "stdout",
     "output_type": "stream",
     "text": [
      "{u'lastModified': datetime.datetime(2020, 5, 25, 13, 11, 33, 978000), u'_id': ObjectId('5ecbc4058ec143732464a799'), u'job_list': [{u'status': u'open', u'applications_list': [{u'skills': [u'python', u'sql'], u'candidate_name': u'laura', u'Application Date': u'01-02-2019 15:00:00', u'email': u'laura@gmail.com', u'linkedin': u'https://www.linkedin.com/in/laura/'}], u'requirements': [u'python', u'big data', u'mongodb'], u'job_id': 1, u'publish_date': u'01-02-2019', u'location': u'Tel Aviv', u'job_name': u'bi developer'}], u'company_name': u'TAU', u'company_description': u'University'}\n"
     ]
    }
   ],
   "source": [
    "print companies.find_one({\"company_name\": 'TAU'})"
   ]
  },
  {
   "cell_type": "code",
   "execution_count": null,
   "metadata": {
    "collapsed": true
   },
   "outputs": [],
   "source": [
    "for k in r.keys():\n",
    "    if 'stud28' in k:\n",
    "        r.delete(k)\n",
    "db.companies.drop()"
   ]
  }
 ],
 "metadata": {
  "kernelspec": {
   "display_name": "Python 3",
   "language": "python",
   "name": "python3"
  },
  "language_info": {
   "codemirror_mode": {
    "name": "ipython",
    "version": 3
   },
   "file_extension": ".py",
   "mimetype": "text/x-python",
   "name": "python",
   "nbconvert_exporter": "python",
   "pygments_lexer": "ipython3",
   "version": "3.7.6"
  }
 },
 "nbformat": 4,
 "nbformat_minor": 2
}

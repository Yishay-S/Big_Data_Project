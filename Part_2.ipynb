{
 "cells": [
  {
   "cell_type": "markdown",
   "metadata": {},
   "source": [
    "# Homework 2: Map-reduce, Hadoop and Spark"
   ]
  },
  {
   "cell_type": "code",
   "execution_count": 93,
   "metadata": {
    "collapsed": true
   },
   "outputs": [],
   "source": [
    "#First we copied the Microsoft.com data to the stud33@bdl1.eng.tau.ac.il machine using scp -r:\n",
    "#scp -r microsoft-com.data-20200612 stud33@bdl1.eng.tau.ac.il:/home/stud33/bigdata_lab/"
   ]
  },
  {
   "cell_type": "code",
   "execution_count": 94,
   "metadata": {
    "collapsed": true
   },
   "outputs": [],
   "source": [
    "#we delete the folders in case the folders and the files exists from previous running"
   ]
  },
  {
   "cell_type": "code",
   "execution_count": 95,
   "metadata": {},
   "outputs": [
    {
     "name": "stderr",
     "output_type": "stream",
     "text": [
      "20/06/21 17:32:16 INFO fs.TrashPolicyDefault: Moved: 'hdfs://bdl0.eng.tau.ac.il:8020/user/stud33/hw_2' to trash at: hdfs://bdl0.eng.tau.ac.il:8020/user/stud33/.Trash/Current/user/stud33/hw_21592749936875\n"
     ]
    }
   ],
   "source": [
    "%%bash\n",
    "hdfs dfs -rm -r /user/stud33/hw_2"
   ]
  },
  {
   "cell_type": "markdown",
   "metadata": {},
   "source": [
    "# 1. Data Loading"
   ]
  },
  {
   "cell_type": "code",
   "execution_count": 96,
   "metadata": {
    "collapsed": true
   },
   "outputs": [],
   "source": [
    "#create a folder for homework 2"
   ]
  },
  {
   "cell_type": "code",
   "execution_count": 97,
   "metadata": {},
   "outputs": [],
   "source": [
    "%%bash\n",
    "hdfs dfs -mkdir /user/stud33/hw_2"
   ]
  },
  {
   "cell_type": "code",
   "execution_count": 98,
   "metadata": {
    "collapsed": true
   },
   "outputs": [],
   "source": [
    "#load the microsoft-com to hw_2 folder"
   ]
  },
  {
   "cell_type": "code",
   "execution_count": 99,
   "metadata": {},
   "outputs": [],
   "source": [
    "%%bash\n",
    "hdfs dfs -put /home/stud33/bigdata_lab/microsoft-com.data-20200612 /user/stud33/hw_2"
   ]
  },
  {
   "cell_type": "code",
   "execution_count": 100,
   "metadata": {},
   "outputs": [
    {
     "name": "stdout",
     "output_type": "stream",
     "text": [
      "Found 3 items\n",
      "-rw-r--r--   3 stud33 stud33        387 2020-06-21 17:32 /user/stud33/hw_2/microsoft-com.data-20200612/microsoft-com.data/countries.txt\n",
      "-rw-r--r--   3 stud33 stud33    1491520 2020-06-21 17:32 /user/stud33/hw_2/microsoft-com.data-20200612/microsoft-com.data/microsoft-com.data\n",
      "-rw-r--r--   3 stud33 stud33       3629 2020-06-21 17:32 /user/stud33/hw_2/microsoft-com.data-20200612/microsoft-com.data/microsoft-com.info\n"
     ]
    }
   ],
   "source": [
    "%%bash\n",
    "hdfs dfs -ls /user/stud33/hw_2/microsoft-com.data-20200612/microsoft-com.data"
   ]
  },
  {
   "cell_type": "code",
   "execution_count": 101,
   "metadata": {},
   "outputs": [],
   "source": [
    "import os\n",
    "import sys\n",
    "import pyspark\n",
    "from pyspark import SparkContext, SparkConf\n",
    "import pandas as pd"
   ]
  },
  {
   "cell_type": "code",
   "execution_count": 102,
   "metadata": {},
   "outputs": [
    {
     "data": {
      "text/plain": [
       "<pyspark.context.SparkContext at 0x7f1cd7dc4d90>"
      ]
     },
     "execution_count": 102,
     "metadata": {},
     "output_type": "execute_result"
    }
   ],
   "source": [
    "sc"
   ]
  },
  {
   "cell_type": "code",
   "execution_count": 103,
   "metadata": {
    "collapsed": true
   },
   "outputs": [],
   "source": [
    "microsoft_data = sc.textFile(\"hdfs:/user/stud33/hw_2/microsoft-com.data-20200612/microsoft-com.data/microsoft-com.data\")"
   ]
  },
  {
   "cell_type": "markdown",
   "metadata": {},
   "source": [
    "# 2. Data Parsing"
   ]
  },
  {
   "cell_type": "code",
   "execution_count": 104,
   "metadata": {
    "collapsed": true
   },
   "outputs": [],
   "source": [
    "# remove noise from the data:\n",
    "#1. remove empty lines\n",
    "#2. remove '\"' character"
   ]
  },
  {
   "cell_type": "code",
   "execution_count": 105,
   "metadata": {},
   "outputs": [],
   "source": [
    "microsoft_data_filtered = microsoft_data.map(lambda line : line.replace('\"','')).filter(lambda line: len(line)>0)"
   ]
  },
  {
   "cell_type": "code",
   "execution_count": 106,
   "metadata": {},
   "outputs": [
    {
     "data": {
      "text/plain": [
       "[u'A,1287,1,International AutoRoute,/autoroute',\n",
       " u'A,1288,1,library,/library',\n",
       " u'A,1289,1,Master Chef Product Information,/masterchef',\n",
       " u'A,1297,1,Central America,/centroam',\n",
       " u'A,1215,1,For Developers Only Info,/developer']"
      ]
     },
     "execution_count": 106,
     "metadata": {},
     "output_type": "execute_result"
    }
   ],
   "source": [
    "microsoft_data_filtered.take(5)"
   ]
  },
  {
   "cell_type": "code",
   "execution_count": 107,
   "metadata": {},
   "outputs": [
    {
     "data": {
      "text/plain": [
       "98948"
      ]
     },
     "execution_count": 107,
     "metadata": {},
     "output_type": "execute_result"
    }
   ],
   "source": [
    "microsoft_data_filtered.count()"
   ]
  },
  {
   "cell_type": "code",
   "execution_count": 108,
   "metadata": {
    "collapsed": true
   },
   "outputs": [],
   "source": [
    "countries_data = sc.textFile(\"hdfs:/user/stud33/hw_2/microsoft-com.data-20200612/microsoft-com.data/countries.txt\")"
   ]
  },
  {
   "cell_type": "code",
   "execution_count": 109,
   "metadata": {},
   "outputs": [
    {
     "data": {
      "text/plain": [
       "[u'Argentina', u'Australia', u'Belgium', u'Brazil', u'Canada']"
      ]
     },
     "execution_count": 109,
     "metadata": {},
     "output_type": "execute_result"
    }
   ],
   "source": [
    "countries_data.take(5)"
   ]
  },
  {
   "cell_type": "code",
   "execution_count": 110,
   "metadata": {},
   "outputs": [
    {
     "data": {
      "text/plain": [
       "42"
      ]
     },
     "execution_count": 110,
     "metadata": {},
     "output_type": "execute_result"
    }
   ],
   "source": [
    "countries_data.count()"
   ]
  },
  {
   "cell_type": "code",
   "execution_count": 111,
   "metadata": {
    "collapsed": true
   },
   "outputs": [],
   "source": [
    "#split each row by ',' seperator"
   ]
  },
  {
   "cell_type": "code",
   "execution_count": 112,
   "metadata": {
    "collapsed": true
   },
   "outputs": [],
   "source": [
    "microsoft_data_splited = microsoft_data_filtered.map(lambda line: line.split(','))"
   ]
  },
  {
   "cell_type": "code",
   "execution_count": 113,
   "metadata": {},
   "outputs": [
    {
     "data": {
      "text/plain": [
       "[[u'A', u'1287', u'1', u'International AutoRoute', u'/autoroute'],\n",
       " [u'A', u'1288', u'1', u'library', u'/library'],\n",
       " [u'A', u'1289', u'1', u'Master Chef Product Information', u'/masterchef'],\n",
       " [u'A', u'1297', u'1', u'Central America', u'/centroam'],\n",
       " [u'A', u'1215', u'1', u'For Developers Only Info', u'/developer']]"
      ]
     },
     "execution_count": 113,
     "metadata": {},
     "output_type": "execute_result"
    }
   ],
   "source": [
    "microsoft_data_splited.take(5)"
   ]
  },
  {
   "cell_type": "code",
   "execution_count": 114,
   "metadata": {
    "collapsed": true
   },
   "outputs": [],
   "source": [
    "#slice the rdd to attribute and votes rdds"
   ]
  },
  {
   "cell_type": "code",
   "execution_count": 115,
   "metadata": {
    "collapsed": true
   },
   "outputs": [],
   "source": [
    "#Attribute data structure:\n",
    "# A, attribute ID number, 1, title of the Vroot, URL relative"
   ]
  },
  {
   "cell_type": "code",
   "execution_count": 116,
   "metadata": {
    "collapsed": true
   },
   "outputs": [],
   "source": [
    "microsoft_data_attribute = microsoft_data_splited.filter(lambda line: line[0]  =='A').map(lambda line: (line[1],line[3]))"
   ]
  },
  {
   "cell_type": "code",
   "execution_count": 117,
   "metadata": {},
   "outputs": [
    {
     "data": {
      "text/plain": [
       "294"
      ]
     },
     "execution_count": 117,
     "metadata": {},
     "output_type": "execute_result"
    }
   ],
   "source": [
    "microsoft_data_attribute.count()"
   ]
  },
  {
   "cell_type": "code",
   "execution_count": 118,
   "metadata": {},
   "outputs": [
    {
     "data": {
      "text/plain": [
       "[(u'1287', u'International AutoRoute'),\n",
       " (u'1288', u'library'),\n",
       " (u'1289', u'Master Chef Product Information'),\n",
       " (u'1297', u'Central America'),\n",
       " (u'1215', u'For Developers Only Info')]"
      ]
     },
     "execution_count": 118,
     "metadata": {},
     "output_type": "execute_result"
    }
   ],
   "source": [
    "microsoft_data_attribute.take(5)"
   ]
  },
  {
   "cell_type": "code",
   "execution_count": 119,
   "metadata": {
    "collapsed": true
   },
   "outputs": [],
   "source": [
    "#vote data structure:\n",
    "# V, case ID number of a user, attribute ID number, 1"
   ]
  },
  {
   "cell_type": "code",
   "execution_count": 120,
   "metadata": {},
   "outputs": [],
   "source": [
    "microsoft_data_vote = microsoft_data_splited.filter(lambda line: line[0]  =='V').map(lambda line: (line[2],line[1]))"
   ]
  },
  {
   "cell_type": "code",
   "execution_count": 121,
   "metadata": {},
   "outputs": [
    {
     "data": {
      "text/plain": [
       "98654"
      ]
     },
     "execution_count": 121,
     "metadata": {},
     "output_type": "execute_result"
    }
   ],
   "source": [
    "microsoft_data_vote.count()"
   ]
  },
  {
   "cell_type": "code",
   "execution_count": 122,
   "metadata": {},
   "outputs": [
    {
     "data": {
      "text/plain": [
       "[(u'1000', u'10001'),\n",
       " (u'1001', u'10001'),\n",
       " (u'1002', u'10001'),\n",
       " (u'1001', u'10002'),\n",
       " (u'1003', u'10002')]"
      ]
     },
     "execution_count": 122,
     "metadata": {},
     "output_type": "execute_result"
    }
   ],
   "source": [
    "microsoft_data_vote.take(5)"
   ]
  },
  {
   "cell_type": "code",
   "execution_count": 123,
   "metadata": {
    "collapsed": true
   },
   "outputs": [],
   "source": [
    "#join attribute and votes data, key - attribute ID number, join - simple inner join\n",
    "#joined data structure:\n",
    "# attribute ID number, title of the Vroot, case ID number of a user"
   ]
  },
  {
   "cell_type": "code",
   "execution_count": 124,
   "metadata": {
    "collapsed": true
   },
   "outputs": [],
   "source": [
    "#in addition, we exclude irrelevant fields"
   ]
  },
  {
   "cell_type": "code",
   "execution_count": 125,
   "metadata": {},
   "outputs": [],
   "source": [
    "microsoft_data_joined = microsoft_data_attribute.join(microsoft_data_vote).map(lambda line: (line[0],line[1][0],line[1][1]))"
   ]
  },
  {
   "cell_type": "code",
   "execution_count": 126,
   "metadata": {},
   "outputs": [
    {
     "data": {
      "text/plain": [
       "98654"
      ]
     },
     "execution_count": 126,
     "metadata": {},
     "output_type": "execute_result"
    }
   ],
   "source": [
    "microsoft_data_joined.count()"
   ]
  },
  {
   "cell_type": "code",
   "execution_count": 127,
   "metadata": {},
   "outputs": [
    {
     "data": {
      "text/plain": [
       "[(u'1142', u'South Africa', u'10372'),\n",
       " (u'1142', u'South Africa', u'13352'),\n",
       " (u'1142', u'South Africa', u'19019'),\n",
       " (u'1142', u'South Africa', u'24124'),\n",
       " (u'1142', u'South Africa', u'25638')]"
      ]
     },
     "execution_count": 127,
     "metadata": {},
     "output_type": "execute_result"
    }
   ],
   "source": [
    "microsoft_data_joined.take(5)"
   ]
  },
  {
   "cell_type": "markdown",
   "metadata": {},
   "source": [
    "# 3. filter the data by the chosen countries"
   ]
  },
  {
   "cell_type": "code",
   "execution_count": 128,
   "metadata": {
    "collapsed": true
   },
   "outputs": [],
   "source": [
    "# change the fields order for the join, country field first"
   ]
  },
  {
   "cell_type": "code",
   "execution_count": 129,
   "metadata": {},
   "outputs": [],
   "source": [
    "microsoft_title_user = microsoft_data_joined.map(lambda line: (line[1],line[2]))"
   ]
  },
  {
   "cell_type": "code",
   "execution_count": 130,
   "metadata": {},
   "outputs": [
    {
     "data": {
      "text/plain": [
       "[(u'South Africa', u'10372'),\n",
       " (u'South Africa', u'13352'),\n",
       " (u'South Africa', u'19019'),\n",
       " (u'South Africa', u'24124'),\n",
       " (u'South Africa', u'25638')]"
      ]
     },
     "execution_count": 130,
     "metadata": {},
     "output_type": "execute_result"
    }
   ],
   "source": [
    "microsoft_title_user.take(5)"
   ]
  },
  {
   "cell_type": "code",
   "execution_count": 131,
   "metadata": {
    "collapsed": true
   },
   "outputs": [],
   "source": [
    "#filter the data by countries rdd\n",
    "#we also adding a 1 field for 4.a and 4.b reports"
   ]
  },
  {
   "cell_type": "code",
   "execution_count": 132,
   "metadata": {},
   "outputs": [],
   "source": [
    "microsoft_title_user_filtered = microsoft_title_user.join(countries_data.map(lambda line: (line,1)))\\\n",
    "                                .map(lambda line: (line[0],1))"
   ]
  },
  {
   "cell_type": "code",
   "execution_count": 133,
   "metadata": {},
   "outputs": [
    {
     "data": {
      "text/plain": [
       "3334"
      ]
     },
     "execution_count": 133,
     "metadata": {},
     "output_type": "execute_result"
    }
   ],
   "source": [
    "microsoft_title_user_filtered.count()"
   ]
  },
  {
   "cell_type": "code",
   "execution_count": 134,
   "metadata": {},
   "outputs": [
    {
     "data": {
      "text/plain": [
       "[(u'Turkey', 1),\n",
       " (u'Turkey', 1),\n",
       " (u'Turkey', 1),\n",
       " (u'Turkey', 1),\n",
       " (u'Turkey', 1)]"
      ]
     },
     "execution_count": 134,
     "metadata": {},
     "output_type": "execute_result"
    }
   ],
   "source": [
    "microsoft_title_user_filtered.take(5)"
   ]
  },
  {
   "cell_type": "markdown",
   "metadata": {},
   "source": [
    "# 4.a report - For each country, the number of users that visited a page of that country"
   ]
  },
  {
   "cell_type": "code",
   "execution_count": 135,
   "metadata": {
    "collapsed": true
   },
   "outputs": [],
   "source": [
    "microsoft_num_of_users_by_country = microsoft_title_user_filtered.reduceByKey(lambda v1,v2: int(v1)+int(v2))"
   ]
  },
  {
   "cell_type": "code",
   "execution_count": 136,
   "metadata": {},
   "outputs": [
    {
     "data": {
      "text/plain": [
       "[(u'Turkey', 9),\n",
       " (u'Caribbean', 5),\n",
       " (u'Norway', 42),\n",
       " (u'Poland', 38),\n",
       " (u'Germany', 372)]"
      ]
     },
     "execution_count": 136,
     "metadata": {},
     "output_type": "execute_result"
    }
   ],
   "source": [
    "microsoft_num_of_users_by_country.take(5)"
   ]
  },
  {
   "cell_type": "code",
   "execution_count": 137,
   "metadata": {
    "collapsed": true
   },
   "outputs": [],
   "source": [
    "# in order to present reports 4.a and 4.b nicely we use pandas data frame "
   ]
  },
  {
   "cell_type": "code",
   "execution_count": 138,
   "metadata": {},
   "outputs": [],
   "source": [
    "country_list = []\n",
    "for country in microsoft_num_of_users_by_country.collect():\n",
    "    country_list.append(list(country))\n",
    "\n",
    "country_df=pd.DataFrame(country_list , columns =['Country','number of users'])"
   ]
  },
  {
   "cell_type": "code",
   "execution_count": 139,
   "metadata": {},
   "outputs": [
    {
     "name": "stdout",
     "output_type": "stream",
     "text": [
      "Number of users by country:\n"
     ]
    },
    {
     "data": {
      "text/html": [
       "<div>\n",
       "<style scoped>\n",
       "    .dataframe tbody tr th:only-of-type {\n",
       "        vertical-align: middle;\n",
       "    }\n",
       "\n",
       "    .dataframe tbody tr th {\n",
       "        vertical-align: top;\n",
       "    }\n",
       "\n",
       "    .dataframe thead th {\n",
       "        text-align: right;\n",
       "    }\n",
       "</style>\n",
       "<table border=\"1\" class=\"dataframe\">\n",
       "  <thead>\n",
       "    <tr style=\"text-align: right;\">\n",
       "      <th></th>\n",
       "      <th>Country</th>\n",
       "      <th>number of users</th>\n",
       "    </tr>\n",
       "  </thead>\n",
       "  <tbody>\n",
       "    <tr>\n",
       "      <th>0</th>\n",
       "      <td>Turkey</td>\n",
       "      <td>9</td>\n",
       "    </tr>\n",
       "    <tr>\n",
       "      <th>1</th>\n",
       "      <td>Caribbean</td>\n",
       "      <td>5</td>\n",
       "    </tr>\n",
       "    <tr>\n",
       "      <th>2</th>\n",
       "      <td>Norway</td>\n",
       "      <td>42</td>\n",
       "    </tr>\n",
       "    <tr>\n",
       "      <th>3</th>\n",
       "      <td>Poland</td>\n",
       "      <td>38</td>\n",
       "    </tr>\n",
       "    <tr>\n",
       "      <th>4</th>\n",
       "      <td>Germany</td>\n",
       "      <td>372</td>\n",
       "    </tr>\n",
       "    <tr>\n",
       "      <th>5</th>\n",
       "      <td>Peru</td>\n",
       "      <td>3</td>\n",
       "    </tr>\n",
       "    <tr>\n",
       "      <th>6</th>\n",
       "      <td>Hong Kong</td>\n",
       "      <td>35</td>\n",
       "    </tr>\n",
       "    <tr>\n",
       "      <th>7</th>\n",
       "      <td>Spain</td>\n",
       "      <td>191</td>\n",
       "    </tr>\n",
       "    <tr>\n",
       "      <th>8</th>\n",
       "      <td>Thailand</td>\n",
       "      <td>11</td>\n",
       "    </tr>\n",
       "    <tr>\n",
       "      <th>9</th>\n",
       "      <td>South Africa</td>\n",
       "      <td>19</td>\n",
       "    </tr>\n",
       "    <tr>\n",
       "      <th>10</th>\n",
       "      <td>Czech Republic</td>\n",
       "      <td>16</td>\n",
       "    </tr>\n",
       "    <tr>\n",
       "      <th>11</th>\n",
       "      <td>Mexico</td>\n",
       "      <td>33</td>\n",
       "    </tr>\n",
       "    <tr>\n",
       "      <th>12</th>\n",
       "      <td>Canada</td>\n",
       "      <td>128</td>\n",
       "    </tr>\n",
       "    <tr>\n",
       "      <th>13</th>\n",
       "      <td>Colombia</td>\n",
       "      <td>11</td>\n",
       "    </tr>\n",
       "    <tr>\n",
       "      <th>14</th>\n",
       "      <td>India</td>\n",
       "      <td>9</td>\n",
       "    </tr>\n",
       "    <tr>\n",
       "      <th>15</th>\n",
       "      <td>Sweden</td>\n",
       "      <td>258</td>\n",
       "    </tr>\n",
       "    <tr>\n",
       "      <th>16</th>\n",
       "      <td>Slovakia</td>\n",
       "      <td>11</td>\n",
       "    </tr>\n",
       "    <tr>\n",
       "      <th>17</th>\n",
       "      <td>Chile</td>\n",
       "      <td>4</td>\n",
       "    </tr>\n",
       "    <tr>\n",
       "      <th>18</th>\n",
       "      <td>Belgium</td>\n",
       "      <td>45</td>\n",
       "    </tr>\n",
       "    <tr>\n",
       "      <th>19</th>\n",
       "      <td>Argentina</td>\n",
       "      <td>32</td>\n",
       "    </tr>\n",
       "    <tr>\n",
       "      <th>20</th>\n",
       "      <td>Venezuela</td>\n",
       "      <td>8</td>\n",
       "    </tr>\n",
       "    <tr>\n",
       "      <th>21</th>\n",
       "      <td>Taiwan</td>\n",
       "      <td>204</td>\n",
       "    </tr>\n",
       "    <tr>\n",
       "      <th>22</th>\n",
       "      <td>Jakarta</td>\n",
       "      <td>670</td>\n",
       "    </tr>\n",
       "    <tr>\n",
       "      <th>23</th>\n",
       "      <td>Australia</td>\n",
       "      <td>136</td>\n",
       "    </tr>\n",
       "    <tr>\n",
       "      <th>24</th>\n",
       "      <td>Denmark</td>\n",
       "      <td>55</td>\n",
       "    </tr>\n",
       "    <tr>\n",
       "      <th>25</th>\n",
       "      <td>Brazil</td>\n",
       "      <td>121</td>\n",
       "    </tr>\n",
       "    <tr>\n",
       "      <th>26</th>\n",
       "      <td>Israel</td>\n",
       "      <td>34</td>\n",
       "    </tr>\n",
       "    <tr>\n",
       "      <th>27</th>\n",
       "      <td>Italy</td>\n",
       "      <td>167</td>\n",
       "    </tr>\n",
       "    <tr>\n",
       "      <th>28</th>\n",
       "      <td>Ireland</td>\n",
       "      <td>13</td>\n",
       "    </tr>\n",
       "    <tr>\n",
       "      <th>29</th>\n",
       "      <td>Portugal</td>\n",
       "      <td>15</td>\n",
       "    </tr>\n",
       "    <tr>\n",
       "      <th>30</th>\n",
       "      <td>China</td>\n",
       "      <td>26</td>\n",
       "    </tr>\n",
       "    <tr>\n",
       "      <th>31</th>\n",
       "      <td>UK</td>\n",
       "      <td>186</td>\n",
       "    </tr>\n",
       "    <tr>\n",
       "      <th>32</th>\n",
       "      <td>Switzerland</td>\n",
       "      <td>31</td>\n",
       "    </tr>\n",
       "    <tr>\n",
       "      <th>33</th>\n",
       "      <td>New Zealand</td>\n",
       "      <td>10</td>\n",
       "    </tr>\n",
       "    <tr>\n",
       "      <th>34</th>\n",
       "      <td>Slovenija</td>\n",
       "      <td>9</td>\n",
       "    </tr>\n",
       "    <tr>\n",
       "      <th>35</th>\n",
       "      <td>Korea</td>\n",
       "      <td>94</td>\n",
       "    </tr>\n",
       "    <tr>\n",
       "      <th>36</th>\n",
       "      <td>Uruguay</td>\n",
       "      <td>4</td>\n",
       "    </tr>\n",
       "    <tr>\n",
       "      <th>37</th>\n",
       "      <td>Finland</td>\n",
       "      <td>29</td>\n",
       "    </tr>\n",
       "    <tr>\n",
       "      <th>38</th>\n",
       "      <td>France</td>\n",
       "      <td>183</td>\n",
       "    </tr>\n",
       "    <tr>\n",
       "      <th>39</th>\n",
       "      <td>Hungary</td>\n",
       "      <td>15</td>\n",
       "    </tr>\n",
       "    <tr>\n",
       "      <th>40</th>\n",
       "      <td>Russia</td>\n",
       "      <td>52</td>\n",
       "    </tr>\n",
       "  </tbody>\n",
       "</table>\n",
       "</div>"
      ],
      "text/plain": [
       "           Country  number of users\n",
       "0           Turkey                9\n",
       "1        Caribbean                5\n",
       "2           Norway               42\n",
       "3           Poland               38\n",
       "4          Germany              372\n",
       "5             Peru                3\n",
       "6        Hong Kong               35\n",
       "7            Spain              191\n",
       "8         Thailand               11\n",
       "9     South Africa               19\n",
       "10  Czech Republic               16\n",
       "11          Mexico               33\n",
       "12          Canada              128\n",
       "13        Colombia               11\n",
       "14           India                9\n",
       "15          Sweden              258\n",
       "16        Slovakia               11\n",
       "17           Chile                4\n",
       "18         Belgium               45\n",
       "19       Argentina               32\n",
       "20       Venezuela                8\n",
       "21          Taiwan              204\n",
       "22         Jakarta              670\n",
       "23       Australia              136\n",
       "24         Denmark               55\n",
       "25          Brazil              121\n",
       "26          Israel               34\n",
       "27           Italy              167\n",
       "28         Ireland               13\n",
       "29        Portugal               15\n",
       "30           China               26\n",
       "31              UK              186\n",
       "32     Switzerland               31\n",
       "33     New Zealand               10\n",
       "34       Slovenija                9\n",
       "35           Korea               94\n",
       "36         Uruguay                4\n",
       "37         Finland               29\n",
       "38          France              183\n",
       "39         Hungary               15\n",
       "40          Russia               52"
      ]
     },
     "metadata": {},
     "output_type": "display_data"
    }
   ],
   "source": [
    "print 'Number of users by country:'\n",
    "display(country_df)"
   ]
  },
  {
   "cell_type": "markdown",
   "metadata": {},
   "source": [
    "# 4.b report - The top 5 visited countries"
   ]
  },
  {
   "cell_type": "code",
   "execution_count": 140,
   "metadata": {
    "collapsed": true
   },
   "outputs": [],
   "source": [
    "# we are changing the columns order and using top function in order to get the top 5 visited countries"
   ]
  },
  {
   "cell_type": "code",
   "execution_count": 141,
   "metadata": {},
   "outputs": [
    {
     "data": {
      "text/plain": [
       "[(670, u'Jakarta'),\n",
       " (372, u'Germany'),\n",
       " (258, u'Sweden'),\n",
       " (204, u'Taiwan'),\n",
       " (191, u'Spain')]"
      ]
     },
     "execution_count": 141,
     "metadata": {},
     "output_type": "execute_result"
    }
   ],
   "source": [
    "microsoft_num_of_users_by_country.map(lambda line: (line[1],line[0])).top(5)"
   ]
  },
  {
   "cell_type": "code",
   "execution_count": 142,
   "metadata": {},
   "outputs": [
    {
     "name": "stdout",
     "output_type": "stream",
     "text": [
      "Top 5 visited countries:\n"
     ]
    },
    {
     "data": {
      "text/html": [
       "<div>\n",
       "<style scoped>\n",
       "    .dataframe tbody tr th:only-of-type {\n",
       "        vertical-align: middle;\n",
       "    }\n",
       "\n",
       "    .dataframe tbody tr th {\n",
       "        vertical-align: top;\n",
       "    }\n",
       "\n",
       "    .dataframe thead th {\n",
       "        text-align: right;\n",
       "    }\n",
       "</style>\n",
       "<table border=\"1\" class=\"dataframe\">\n",
       "  <thead>\n",
       "    <tr style=\"text-align: right;\">\n",
       "      <th></th>\n",
       "      <th>Country</th>\n",
       "      <th>number of users</th>\n",
       "    </tr>\n",
       "  </thead>\n",
       "  <tbody>\n",
       "    <tr>\n",
       "      <th>22</th>\n",
       "      <td>Jakarta</td>\n",
       "      <td>670</td>\n",
       "    </tr>\n",
       "    <tr>\n",
       "      <th>4</th>\n",
       "      <td>Germany</td>\n",
       "      <td>372</td>\n",
       "    </tr>\n",
       "    <tr>\n",
       "      <th>15</th>\n",
       "      <td>Sweden</td>\n",
       "      <td>258</td>\n",
       "    </tr>\n",
       "    <tr>\n",
       "      <th>21</th>\n",
       "      <td>Taiwan</td>\n",
       "      <td>204</td>\n",
       "    </tr>\n",
       "    <tr>\n",
       "      <th>7</th>\n",
       "      <td>Spain</td>\n",
       "      <td>191</td>\n",
       "    </tr>\n",
       "  </tbody>\n",
       "</table>\n",
       "</div>"
      ],
      "text/plain": [
       "    Country  number of users\n",
       "22  Jakarta              670\n",
       "4   Germany              372\n",
       "15   Sweden              258\n",
       "21   Taiwan              204\n",
       "7     Spain              191"
      ]
     },
     "metadata": {},
     "output_type": "display_data"
    }
   ],
   "source": [
    "print 'Top 5 visited countries:'\n",
    "display(country_df.sort_values(by='number of users', ascending=False).head(5))"
   ]
  },
  {
   "cell_type": "markdown",
   "metadata": {},
   "source": [
    "# 5. Write the report (4.a) to HDFS for future use"
   ]
  },
  {
   "cell_type": "code",
   "execution_count": 143,
   "metadata": {},
   "outputs": [],
   "source": [
    "microsoft_num_of_users_by_country.saveAsTextFile(\"hdfs:/user/stud33/hw_2/number_of_users_by_country\")"
   ]
  },
  {
   "cell_type": "code",
   "execution_count": 144,
   "metadata": {},
   "outputs": [
    {
     "name": "stdout",
     "output_type": "stream",
     "text": [
      "Found 7 items\n",
      "-rw-r--r--   3 stud33 stud33          0 2020-06-21 17:32 /user/stud33/hw_2/number_of_users_by_country/_SUCCESS\n",
      "-rw-r--r--   3 stud33 stud33        131 2020-06-21 17:32 /user/stud33/hw_2/number_of_users_by_country/part-00000\n",
      "-rw-r--r--   3 stud33 stud33         80 2020-06-21 17:32 /user/stud33/hw_2/number_of_users_by_country/part-00001\n",
      "-rw-r--r--   3 stud33 stud33        169 2020-06-21 17:32 /user/stud33/hw_2/number_of_users_by_country/part-00002\n",
      "-rw-r--r--   3 stud33 stud33         55 2020-06-21 17:32 /user/stud33/hw_2/number_of_users_by_country/part-00003\n",
      "-rw-r--r--   3 stud33 stud33        172 2020-06-21 17:32 /user/stud33/hw_2/number_of_users_by_country/part-00004\n",
      "-rw-r--r--   3 stud33 stud33         98 2020-06-21 17:32 /user/stud33/hw_2/number_of_users_by_country/part-00005\n"
     ]
    }
   ],
   "source": [
    "%%bash\n",
    "hdfs dfs -ls /user/stud33/hw_2/number_of_users_by_country"
   ]
  },
  {
   "cell_type": "code",
   "execution_count": 148,
   "metadata": {
    "collapsed": true
   },
   "outputs": [],
   "source": [
    "# we get a distrebuted file"
   ]
  },
  {
   "cell_type": "code",
   "execution_count": 149,
   "metadata": {},
   "outputs": [],
   "source": [
    "%%bash\n",
    "hdfs dfs -getmerge /user/stud33/hw_2/number_of_users_by_country /home/stud33/bigdata_lab/number_of_users_by_country"
   ]
  },
  {
   "cell_type": "markdown",
   "metadata": {
    "collapsed": true
   },
   "source": [
    "# 6. The average number of pages per user"
   ]
  },
  {
   "cell_type": "code",
   "execution_count": 150,
   "metadata": {
    "collapsed": true
   },
   "outputs": [],
   "source": [
    "#remineder on the data structure:\n",
    "#attribute ID number, title of the Vroot, case ID number of a user"
   ]
  },
  {
   "cell_type": "code",
   "execution_count": 151,
   "metadata": {
    "collapsed": true
   },
   "outputs": [],
   "source": [
    "# we are going to calculate the AVG using 2 values we are going to extract:\n",
    "#1. count distinct of users\n",
    "#2. total number of pages\n",
    "#and then we divide #2 by #1"
   ]
  },
  {
   "cell_type": "code",
   "execution_count": 152,
   "metadata": {
    "collapsed": true
   },
   "outputs": [],
   "source": [
    "# we are using distinct functiom in order to coumt the number of users"
   ]
  },
  {
   "cell_type": "code",
   "execution_count": 153,
   "metadata": {},
   "outputs": [
    {
     "data": {
      "text/plain": [
       "32711"
      ]
     },
     "execution_count": 153,
     "metadata": {},
     "output_type": "execute_result"
    }
   ],
   "source": [
    "microsoft_distinct_users=microsoft_data_joined.map(lambda line: (line[2])).distinct()\n",
    "microsoft_distinct_users.count()"
   ]
  },
  {
   "cell_type": "code",
   "execution_count": 154,
   "metadata": {},
   "outputs": [
    {
     "data": {
      "text/plain": [
       "[(u'10372', 1), (u'13352', 1), (u'19019', 1), (u'24124', 1), (u'25638', 1)]"
      ]
     },
     "execution_count": 154,
     "metadata": {},
     "output_type": "execute_result"
    }
   ],
   "source": [
    "microsoft_users=microsoft_data_joined.map(lambda line: (line[2],1))\n",
    "microsoft_users.take(5)"
   ]
  },
  {
   "cell_type": "code",
   "execution_count": 155,
   "metadata": {},
   "outputs": [],
   "source": [
    "microsoft_num_of_votes_by_user=microsoft_users.reduceByKey(lambda v1, v2: int(v1)+int(v2))"
   ]
  },
  {
   "cell_type": "code",
   "execution_count": 156,
   "metadata": {},
   "outputs": [
    {
     "data": {
      "text/plain": [
       "[(u'35540', 3), (u'35236', 1), (u'35544', 2), (u'35548', 1), (u'24029', 1)]"
      ]
     },
     "execution_count": 156,
     "metadata": {},
     "output_type": "execute_result"
    }
   ],
   "source": [
    "microsoft_num_of_votes_by_user.take(5)"
   ]
  },
  {
   "cell_type": "code",
   "execution_count": 160,
   "metadata": {
    "collapsed": true
   },
   "outputs": [],
   "source": [
    "# we are using reduce and not reduceByKey in order to sum all the pages together"
   ]
  },
  {
   "cell_type": "code",
   "execution_count": 161,
   "metadata": {},
   "outputs": [],
   "source": [
    "microsoft_total_pages=microsoft_num_of_votes_by_user.map(lambda line: (line[1])).reduce(lambda v1, v2: (int(v1)+int(v2)))"
   ]
  },
  {
   "cell_type": "code",
   "execution_count": 162,
   "metadata": {},
   "outputs": [
    {
     "name": "stdout",
     "output_type": "stream",
     "text": [
      "98654\n"
     ]
    }
   ],
   "source": [
    "print microsoft_total_pages"
   ]
  },
  {
   "cell_type": "code",
   "execution_count": 163,
   "metadata": {},
   "outputs": [
    {
     "name": "stdout",
     "output_type": "stream",
     "text": [
      "Average number of pages per user: 3.01592736388\n"
     ]
    }
   ],
   "source": [
    "avg_num_of_pages_per_user = microsoft_total_pages*1.0/microsoft_distinct_users.count()\n",
    "print 'Average number of pages per user: {}'.format(avg_num_of_pages_per_user)"
   ]
  },
  {
   "cell_type": "markdown",
   "metadata": {
    "collapsed": true
   },
   "source": [
    "# 7. The page id with maximum number of visits"
   ]
  },
  {
   "cell_type": "code",
   "execution_count": 165,
   "metadata": {
    "collapsed": true
   },
   "outputs": [],
   "source": [
    "microsoft_pages=microsoft_data_joined.map(lambda line: (line[0],1))"
   ]
  },
  {
   "cell_type": "code",
   "execution_count": 166,
   "metadata": {
    "collapsed": true
   },
   "outputs": [],
   "source": [
    "microsoft_num_of_visits_per_page=microsoft_pages.reduceByKey(lambda v1, v2: int(v1)+int(v2))"
   ]
  },
  {
   "cell_type": "code",
   "execution_count": 167,
   "metadata": {},
   "outputs": [
    {
     "data": {
      "text/plain": [
       "[(u'1142', 19), (u'1128', 1), (u'1164', 49), (u'1146', 79), (u'1263', 2)]"
      ]
     },
     "execution_count": 167,
     "metadata": {},
     "output_type": "execute_result"
    }
   ],
   "source": [
    "microsoft_num_of_visits_per_page.take(5)"
   ]
  },
  {
   "cell_type": "code",
   "execution_count": 168,
   "metadata": {
    "collapsed": true
   },
   "outputs": [],
   "source": [
    "# we are changing the columns order and get the top 1 page"
   ]
  },
  {
   "cell_type": "code",
   "execution_count": 169,
   "metadata": {},
   "outputs": [],
   "source": [
    "microsoft_page_with_max_visits = microsoft_num_of_visits_per_page.map(lambda line: (line[1],line[0])).top(1) "
   ]
  },
  {
   "cell_type": "code",
   "execution_count": 170,
   "metadata": {},
   "outputs": [
    {
     "name": "stdout",
     "output_type": "stream",
     "text": [
      "[(10836, u'1008')]\n"
     ]
    }
   ],
   "source": [
    "print microsoft_page_with_max_visits"
   ]
  },
  {
   "cell_type": "code",
   "execution_count": 171,
   "metadata": {},
   "outputs": [
    {
     "name": "stdout",
     "output_type": "stream",
     "text": [
      "The page id with maximum number of visits is 1008 with 10836 visits\n"
     ]
    }
   ],
   "source": [
    "print 'The page id with maximum number of visits is {} with {} visits'\\\n",
    "        .format(microsoft_page_with_max_visits[0][1],microsoft_page_with_max_visits[0][0])"
   ]
  },
  {
   "cell_type": "markdown",
   "metadata": {},
   "source": [
    "# 8. write a command(s) that remove your directories from HDFS"
   ]
  },
  {
   "cell_type": "code",
   "execution_count": 172,
   "metadata": {},
   "outputs": [
    {
     "name": "stderr",
     "output_type": "stream",
     "text": [
      "20/06/21 17:34:19 INFO fs.TrashPolicyDefault: Moved: 'hdfs://bdl0.eng.tau.ac.il:8020/user/stud33/hw_2' to trash at: hdfs://bdl0.eng.tau.ac.il:8020/user/stud33/.Trash/Current/user/stud33/hw_21592750059575\n"
     ]
    }
   ],
   "source": [
    "%%bash\n",
    "hdfs dfs -rm -r /user/stud33/hw_2"
   ]
  },
  {
   "cell_type": "code",
   "execution_count": null,
   "metadata": {},
   "outputs": [],
   "source": [
    "#Targil 1"
   ]
  },
  {
   "cell_type": "code",
   "execution_count": null,
   "metadata": {
    "collapsed": true
   },
   "outputs": [],
   "source": [
    "info = sc.textFile(\"hdfs://seinfeld2018/episode_info.csv\")\n",
    "scripts = sc.textFile(\"hdfs://seinfeld2018/scripts.csv\")"
   ]
  },
  {
   "cell_type": "code",
   "execution_count": null,
   "metadata": {},
   "outputs": [],
   "source": [
    "#1\n",
    "main_characters = ['JERRY','GEORGE','KRAMER','ELAINE']\n",
    "avg_words_per_mainuser_episode =scripts.map(lambda line: line.split(','))\\\n",
    "                                .filter(lambda line: line[0]!= 'Id' and line[2] in main_characters)\\\n",
    "                                .map(lambda line: (line[1], line[2]),' '.join(line[3:]).split(' '))\\\n",
    "                                .reduceByKey(lambda v1, v2: len(v1[0])+len(v2[0]))\\\n",
    "                                .map(lambda line: line[0][1], (line[1],1))\\\n",
    "                                .reduceByKey(lambda v1, v2: (v1[0]+v1[0],v1[1]+v1[1] ))\\\n",
    "                                .mapvalues(lambda line: float(line[0])/float(line[1]))\n",
    "\n",
    "avg_words_per_mainuser_episode.collect()"
   ]
  },
  {
   "cell_type": "code",
   "execution_count": null,
   "metadata": {},
   "outputs": [],
   "source": [
    "#2\n",
    "main_characters = ['JERRY','GEORGE','KRAMER','ELAINE']\n",
    "not_main_characters =scripts.map(lambda line: line.split(','))\\\n",
    "                    .filter(lambda line: line[0]!= 'Id' and line[2] not in main_characters)\\\n",
    "                    .map(lambda line: line[1],line[2])\n",
    "characters_1990=info.map(lambda line: line.split(','))\\\n",
    "                    .filter(lambda line: line[0]!= 'IdInfo' and '1990' in line[-1] )\\\n",
    "                    .map(lambda line: line[0])\n",
    "count_of_not_main_characters_in_1990=not_main_characters.join(characters_1990)\\\n",
    "                                    .map(lambda line: line[1]).distinct().count()\n",
    "print(count_of_not_main_characters_in_1990)\n"
   ]
  },
  {
   "cell_type": "code",
   "execution_count": null,
   "metadata": {},
   "outputs": [],
   "source": [
    "#Targil 2"
   ]
  },
  {
   "cell_type": "code",
   "execution_count": null,
   "metadata": {},
   "outputs": [],
   "source": [
    "movies = sc.textFile(\"hdfs://moviesdb2018/movies_metadata.csv\")\n",
    "ratings = sc.textFile(\"hdfs://moviesdb2018/ratings_small.csv\")"
   ]
  },
  {
   "cell_type": "code",
   "execution_count": null,
   "metadata": {},
   "outputs": [],
   "source": [
    "#1\n",
    "join_data=movies.map(lambda line: line.split(',')[0])\\\n",
    "                .filter(lambda line: line!= 'MovieId')\\\n",
    "                .leftOuterjoin(ratings.map(lambda line: line.split(','))\\\n",
    "                                      .filter(lambda line: line[0]!= 'UserId')\\\n",
    "                                      .map(lambda line: line[1],line[2],1))\\\n",
    "                .reduceByKey(lambda v1, v2: (float(v1[0])+float(v2[0]),v1[1]+v2[1]))\\\n",
    "                .mapvalues(lambda line: float(line[0])/float(line[1]))\\\n",
    "                .filter(lambda line: line[1]<3 or line[1] is None)\\\n",
    "                .map(lambda line: line[0])\\\n",
    "                .distinct()\n",
    "join_data.collect()"
   ]
  },
  {
   "cell_type": "code",
   "execution_count": null,
   "metadata": {},
   "outputs": [],
   "source": [
    "#additonal option "
   ]
  },
  {
   "cell_type": "code",
   "execution_count": null,
   "metadata": {},
   "outputs": [],
   "source": [
    "#1\n",
    "all_movies.=movies.map(lambda line: line.split(',')[0])\\\n",
    "                .filter(lambda line: line!= 'MovieId')\n",
    "\n",
    "best_movies =ratings.map(lambda line: line.split(','))\\\n",
    "            .filter(lambda line: line[0]!= 'UserId')\\\n",
    "            .map(lambda line: line[1](line[2],1))\\\n",
    "            .reduceByKey(lambda v1, v2: (float(v1[0])+float(v2[0]),v1[1]+v2[1]))\\\n",
    "            .mapvalues(lambda line: float(line[0])/float(line[1]))\\\n",
    "            .filter(lambda line: line[1]>=3)\\\n",
    "            .map(lambda line: line[0])\n",
    "bad_movies = all_movies.substract(best_movies)\n",
    "\n",
    "bad_movies.collect()"
   ]
  },
  {
   "cell_type": "code",
   "execution_count": null,
   "metadata": {},
   "outputs": [],
   "source": [
    "#2\n",
    "missing_budget_movies.=movies.map(lambda line: line.split(','))\\\n",
    "                .filter(lambda line: line[0]!= 'MovieId' and line[2]==0)\\\n",
    "                .map(lambda line: line[0])\n",
    "\n",
    "number_of_rates_per_movie = ratings.map(lambda line: line.split(','))\\\n",
    "            .filter(lambda line: line[0]!= 'UserId')\\\n",
    "            .map(lambda line: line[1],1)\\\n",
    "            .reduceByKey(lambda v1, v2: v1+v2)\n",
    "\n",
    "join_data = missing_budget_movies.leftOuterjoin(number_of_rates_per_movie)\n",
    "\n",
    "join_data.collect()"
   ]
  }
 ],
 "metadata": {
  "kernelspec": {
   "display_name": "Python 3",
   "language": "python",
   "name": "python3"
  },
  "language_info": {
   "codemirror_mode": {
    "name": "ipython",
    "version": 3
   },
   "file_extension": ".py",
   "mimetype": "text/x-python",
   "name": "python",
   "nbconvert_exporter": "python",
   "pygments_lexer": "ipython3",
   "version": "3.7.6"
  }
 },
 "nbformat": 4,
 "nbformat_minor": 2
}
